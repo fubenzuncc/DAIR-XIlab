{
 "cells": [
  {
   "attachments": {},
   "cell_type": "markdown",
   "metadata": {},
   "source": [
    "filename =\"./data/DAIR-V2X/cooperative-vehicle-infrastructure/infrastructure-side/training/image_2/008359.jpg\"\n",
    "get_name 000009\n",
    "\n",
    "get namelist \n",
    "    if camera_intrinsic \n",
    "        get camera_intrinsics\n",
    "\n",
    "\n",
    "    if virtuallidar_to_camera \n",
    "        get lidar2camera\n",
    "    if lidar_to_camera \n",
    "        get lidar2camera\n",
    "\n",
    "\n",
    "    if virtuallidar_to_world\n",
    "        get lidar2ego\n",
    "\n",
    "    if lidar_to_novatel\n",
    "        novatel_to_world\n",
    "        get lidar_to_novatel novatel_to_world\n"
   ]
  },
  {
   "cell_type": "code",
   "execution_count": null,
   "metadata": {},
   "outputs": [
    {
     "ename": "",
     "evalue": "",
     "output_type": "error",
     "traceback": [
      "\u001b[1;31m运行具有“base”的单元格需要ipykernel包。\n",
      "\u001b[1;31mRun the following command to install 'ipykernel' into the Python environment. \n",
      "\u001b[1;31mCommand: 'conda install -n base ipykernel --update-deps --force-reinstall'"
     ]
    }
   ],
   "source": [
    "filename =\"./data/DAIR-V2X/cooperative-vehicle-infrastructure/infrastructure-side/training/image_2/008359.jpg\"\n",
    "temp=filename.split('/')"
   ]
  }
 ],
 "metadata": {
  "kernelspec": {
   "display_name": "base",
   "language": "python",
   "name": "python3"
  },
  "language_info": {
   "name": "python",
   "version": "3.8.8"
  },
  "orig_nbformat": 4,
  "vscode": {
   "interpreter": {
    "hash": "d4d1e4263499bec80672ea0156c357c1ee493ec2b1c70f0acce89fc37c4a6abe"
   }
  }
 },
 "nbformat": 4,
 "nbformat_minor": 2
}
